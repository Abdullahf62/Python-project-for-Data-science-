{
 "cells": [
  {
   "cell_type": "markdown",
   "id": "3cc9e44d",
   "metadata": {},
   "source": [
    "\n",
    "### Question 1: Use yfinance to Extract Stock Data\n",
    "\n",
    "Reset the index, save, and display the first five rows of the tesla_data dataframe using the head function.\n"
   ]
  },
  {
   "cell_type": "code",
   "execution_count": null,
   "id": "54ca9419",
   "metadata": {},
   "outputs": [],
   "source": [
    "\n",
    "import yfinance as yf\n",
    "import pandas as pd\n",
    "\n",
    "# Extracting Tesla stock data\n",
    "tesla = yf.Ticker(\"TSLA\")\n",
    "tesla_data = tesla.history(period=\"1y\")\n",
    "tesla_data.reset_index(inplace=True)  # Resetting the index\n",
    "tesla_data.head()  # Displaying the first five rows\n"
   ]
  },
  {
   "cell_type": "markdown",
   "id": "eea2e535",
   "metadata": {},
   "source": [
    "\n",
    "### Question 2: Use Webscraping to Extract Tesla Revenue Data\n",
    "\n",
    "Display the last five rows of the tesla_revenue dataframe using the tail function.\n"
   ]
  },
  {
   "cell_type": "code",
   "execution_count": null,
   "id": "760f9f8a",
   "metadata": {},
   "outputs": [],
   "source": [
    "\n",
    "import requests\n",
    "from bs4 import BeautifulSoup\n",
    "\n",
    "# URL for Tesla revenue data (example URL)\n",
    "url = \"https://www.macrotrends.net/stocks/charts/TSLA/tesla/revenue\"\n",
    "response = requests.get(url)\n",
    "soup = BeautifulSoup(response.text, \"html.parser\")\n",
    "\n",
    "# Find the table containing the revenue data\n",
    "tables = soup.find_all(\"table\")\n",
    "tesla_revenue_table = tables[1]  # Assuming the second table contains the data\n",
    "revenue_data = []\n",
    "\n",
    "for row in tesla_revenue_table.find_all(\"tr\")[1:]:\n",
    "    columns = row.find_all(\"td\")\n",
    "    date = columns[0].text\n",
    "    revenue = columns[1].text.replace(\"$\", \"\").replace(\",\", \"\")\n",
    "    revenue_data.append((date, revenue))\n",
    "\n",
    "tesla_revenue_df = pd.DataFrame(revenue_data, columns=[\"Date\", \"Revenue\"])\n",
    "tesla_revenue_df.tail()  # Display the last five rows\n"
   ]
  },
  {
   "cell_type": "markdown",
   "id": "3be48553",
   "metadata": {},
   "source": [
    "\n",
    "### Question 3: Use yfinance to Extract Stock Data\n",
    "\n",
    "Reset the index, save, and display the first five rows of the gme_data dataframe using the head function.\n"
   ]
  },
  {
   "cell_type": "code",
   "execution_count": null,
   "id": "94aad25f",
   "metadata": {},
   "outputs": [],
   "source": [
    "\n",
    "# Extracting GameStop stock data\n",
    "gme = yf.Ticker(\"GME\")\n",
    "gme_data = gme.history(period=\"1y\")\n",
    "gme_data.reset_index(inplace=True)  # Resetting the index\n",
    "gme_data.head()  # Displaying the first five rows\n"
   ]
  },
  {
   "cell_type": "markdown",
   "id": "60f4478b",
   "metadata": {},
   "source": [
    "\n",
    "### Question 4: Use Webscraping to Extract GME Revenue Data\n",
    "\n",
    "Display the last five rows of the gme_revenue dataframe using the tail function.\n"
   ]
  },
  {
   "cell_type": "code",
   "execution_count": null,
   "id": "fcb45dfb",
   "metadata": {},
   "outputs": [],
   "source": [
    "\n",
    "url = \"https://www.macrotrends.net/stocks/charts/GME/gamestop/revenue\"\n",
    "response = requests.get(url)\n",
    "soup = BeautifulSoup(response.text, \"html.parser\")\n",
    "\n",
    "# Find the table containing the revenue data\n",
    "tables = soup.find_all(\"table\")\n",
    "gme_revenue_table = tables[1]\n",
    "revenue_data = []\n",
    "\n",
    "for row in gme_revenue_table.find_all(\"tr\")[1:]:\n",
    "    columns = row.find_all(\"td\")\n",
    "    date = columns[0].text\n",
    "    revenue = columns[1].text.replace(\"$\", \"\").replace(\",\", \"\")\n",
    "    revenue_data.append((date, revenue))\n",
    "\n",
    "gme_revenue_df = pd.DataFrame(revenue_data, columns=[\"Date\", \"Revenue\"])\n",
    "gme_revenue_df.tail()  # Display the last five rows\n"
   ]
  },
  {
   "cell_type": "markdown",
   "id": "dab595c0",
   "metadata": {},
   "source": [
    "\n",
    "### Question 5: Plot Tesla Stock Graph\n",
    "\n",
    "Use the make_graph function to graph the Tesla Stock Data, also provide a title for the graph.\n"
   ]
  },
  {
   "cell_type": "code",
   "execution_count": null,
   "id": "211497f1",
   "metadata": {},
   "outputs": [],
   "source": [
    "\n",
    "import plotly.graph_objs as go\n",
    "\n",
    "def make_graph(data, title):\n",
    "    # Create a line chart for Tesla stock price\n",
    "    fig = go.Figure()\n",
    "    fig.add_trace(go.Scatter(x=data['Date'], y=data['Close'], mode='lines', name='Tesla Stock Price'))\n",
    "    \n",
    "    # Set title and labels\n",
    "    fig.update_layout(title=title,\n",
    "                      xaxis_title='Date',\n",
    "                      yaxis_title='Stock Price (USD)',\n",
    "                      legend_title='Legend')\n",
    "    fig.show()\n",
    "\n",
    "# Call the function to plot Tesla stock data\n",
    "make_graph(tesla_data, 'Tesla Stock Price Over the Last Year')\n"
   ]
  },
  {
   "cell_type": "markdown",
   "id": "6d5ff655",
   "metadata": {},
   "source": [
    "\n",
    "### Question 6: Plot GameStop Stock Graph\n",
    "\n",
    "Use the make_graph function to graph the GameStop Stock Data, also provide a title for the graph.\n"
   ]
  },
  {
   "cell_type": "code",
   "execution_count": null,
   "id": "a5bc26fb",
   "metadata": {},
   "outputs": [],
   "source": [
    "\n",
    "def make_graph(data, title):\n",
    "    # Create a line chart for stock price\n",
    "    fig = go.Figure()\n",
    "    fig.add_trace(go.Scatter(x=data['Date'], y=data['Close'], mode='lines', name='GameStop Stock Price'))\n",
    "    \n",
    "    # Set title and labels\n",
    "    fig.update_layout(title=title,\n",
    "                      xaxis_title='Date',\n",
    "                      yaxis_title='Stock Price (USD)',\n",
    "                      legend_title='Legend')\n",
    "    fig.show()\n",
    "\n",
    "# Call the function to plot GameStop stock data\n",
    "make_graph(gme_data, 'GameStop Stock Price Over the Last Year')\n"
   ]
  }
 ],
 "metadata": {},
 "nbformat": 4,
 "nbformat_minor": 5
}
